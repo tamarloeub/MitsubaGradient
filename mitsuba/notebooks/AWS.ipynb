{
 "cells": [
  {
   "cell_type": "markdown",
   "metadata": {},
   "source": [
    "## Prototyping AWS Cloud Computing\n",
    "-----\n",
    "\n",
    "##### Description\n",
    "This notebook is used for protoyping capabilities of AWS EC2 (cloud computing). Note that mitsuba expects to be complied by the same compiler. Therefor it is note possible to preform computation on ubunto servers with osx compiled mitsuba as the osx uses clang compiler (theres a bug with gcc).\n",
    " - Boto3: used to launch instances (duplicated from the same image).\n",
    " - Paramiko: used for SSH commands (i.e. mtsserv for mitsuba)."
   ]
  },
  {
   "cell_type": "code",
   "execution_count": null,
   "metadata": {
    "collapsed": true
   },
   "outputs": [],
   "source": [
    "ec2 = boto3.resource('ec2')\n",
    "instances = ec2.create_instances(\n",
    "    ImageId='ami-2ffe2440', \n",
    "    MinCount=1, \n",
    "    MaxCount=1,\n",
    "    KeyName='mitsuba',\n",
    "    InstanceType='t2.micro',\n",
    "    SecurityGroups=['All']\n",
    ")"
   ]
  },
  {
   "cell_type": "code",
   "execution_count": null,
   "metadata": {
    "collapsed": true
   },
   "outputs": [],
   "source": [
    "from collections import defaultdict\n",
    "\n",
    "runningInstances = ec2.instances.filter(Filters=[{'Name': 'instance-state-name', 'Values': ['running']}])\n",
    "\n",
    "ec2info = defaultdict()\n",
    "for instance in runningInstances:       \n",
    "    ec2info[instance.id] = {\n",
    "        'Type': instance.instance_type,\n",
    "        'State': instance.state['Name'],\n",
    "        'Private IP': instance.private_ip_address,\n",
    "        'Public IP': instance.public_ip_address,\n",
    "        'Launch Time': instance.launch_time,\n",
    "        'Security Groups' : instance.security_groups[0]['GroupName']\n",
    "        }\n",
    "\n",
    "attributes = ['Type', 'State', 'Private IP', 'Public IP', 'Launch Time', 'Security Groups']\n",
    "for instance_id, instance in ec2info.items():\n",
    "    for key in attributes:\n",
    "        print(\"{0}: {1}\".format(key, instance[key]))\n",
    "    print(\"------------------------------\")"
   ]
  },
  {
   "cell_type": "code",
   "execution_count": null,
   "metadata": {
    "collapsed": true
   },
   "outputs": [],
   "source": [
    "import i3rc, paramiko\n",
    "\n",
    "# Mitsuba imports\n",
    "from mitsuba.core import *\n",
    "from mitsuba.render import Scene, RenderQueue, RenderJob\n",
    "\n",
    "# Other imports and function defenitions \n",
    "import numpy as np\n",
    "import matplotlib.pyplot as plt\n",
    "import os, sys "
   ]
  },
  {
   "cell_type": "code",
   "execution_count": null,
   "metadata": {
    "collapsed": true
   },
   "outputs": [],
   "source": [
    "# Connect to a socket on a named host or IP address\n",
    "# 7554 is the default port of 'mtssrv'\n",
    "keyPath = os.path.join(os.environ['HOME'], 'Dropbox/Research/AWS/mitsuba.pem')\n",
    "\n",
    "key = paramiko.RSAKey.from_private_key_file(keyPath)\n",
    "ssh = paramiko.SSHClient()\n",
    "ssh.set_missing_host_key_policy(paramiko.AutoAddPolicy())\n",
    "\n",
    "ssh.connect(hostname='52.57.33.140', \n",
    "            username='ubuntu', \n",
    "            pkey=key)\n",
    "\n",
    "stdin, stdout, stderr = ssh.exec_command(\"cd code/mitsuba/dist\")\n",
    "stdin, stdout, stderr = ssh.exec_command(\"mtsserv\")\n",
    "\n",
    "# Wait for the command to terminate\n",
    "while not stdout.channel.exit_status_ready():\n",
    "    # Only print data if there is data to read in the channel\n",
    "    if stdout.channel.recv_ready():\n",
    "        rl, wl, xl = select.select([stdout.channel], [], [], 0.0)\n",
    "        if len(rl) > 0:\n",
    "            # Print data from stdout\n",
    "            print stdout.channel.recv(1024),\n",
    "\n",
    "#\n",
    "# Disconnect from the host\n",
    "#\n",
    "print \"Command done, closing SSH connection\"\n",
    "ssh.close()"
   ]
  },
  {
   "cell_type": "code",
   "execution_count": null,
   "metadata": {
    "collapsed": true
   },
   "outputs": [],
   "source": [
    "stream = SocketStream('52.57.33.140', 7554)\n",
    "\n",
    "#Create a remote worker instance that communicates over the stream\n",
    "remoteWorker = RemoteWorker('netWorker', stream)\n",
    "scheduler = Scheduler.getInstance()\n",
    "\n",
    "# Register the remote worker (and any other potential workers)\n",
    "scheduler.registerWorker(remoteWorker)\n",
    "scheduler.start()"
   ]
  },
  {
   "cell_type": "code",
   "execution_count": null,
   "metadata": {
    "collapsed": true
   },
   "outputs": [],
   "source": [
    "# Multiprocessing imports and initialization\n",
    "import multiprocessing\n",
    "scheduler = Scheduler.getInstance()\n",
    "\n",
    "# Start up the scheduling system with one worker per local core\n",
    "for i in range(0, multiprocessing.cpu_count()): \n",
    "    scheduler.registerWorker(LocalWorker(i, 'wrk%i' % i))\n",
    "\n",
    "scheduler.start()"
   ]
  },
  {
   "cell_type": "code",
   "execution_count": null,
   "metadata": {
    "collapsed": true
   },
   "outputs": [],
   "source": [
    "running = ec2.instances.filter(\n",
    "    Filters=[{'Name': 'instance-state-name', 'Values': ['running']}])\n",
    "running.terminate()"
   ]
  }
 ],
 "metadata": {
  "kernelspec": {
   "display_name": "Python 2",
   "language": "python",
   "name": "python2"
  },
  "language_info": {
   "codemirror_mode": {
    "name": "ipython",
    "version": 2
   },
   "file_extension": ".py",
   "mimetype": "text/x-python",
   "name": "python",
   "nbconvert_exporter": "python",
   "pygments_lexer": "ipython2",
   "version": "2.7.12"
  }
 },
 "nbformat": 4,
 "nbformat_minor": 2
}
