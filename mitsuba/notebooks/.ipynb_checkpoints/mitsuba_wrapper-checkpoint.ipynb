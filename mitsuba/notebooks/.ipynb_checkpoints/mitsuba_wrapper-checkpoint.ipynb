{
 "cells": [
  {
   "cell_type": "markdown",
   "metadata": {
    "heading_collapsed": true
   },
   "source": [
    "## Rendering with mitsuba\n",
    "\n",
    "This notebook demonstrates basic rendering with mitsuba and the python wrapper. \n",
    "\n",
    "The three basic classes that the mtspywrapper implements are the pyMedium, pySensor, pyEmitter. Currently there is only support of pyParallelRaySensor and pySolarEmitter."
   ]
  },
  {
   "cell_type": "code",
   "execution_count": 1,
   "metadata": {
    "ExecuteTime": {
     "end_time": "2018-12-17T09:26:01.863046Z",
     "start_time": "2018-12-17T09:26:01.824217Z"
    },
    "code_folding": [
     22
    ],
    "hidden": true
   },
   "outputs": [
    {
     "ename": "SyntaxError",
     "evalue": "invalid syntax (<ipython-input-1-e4e1a0cc39e6>, line 3)",
     "output_type": "error",
     "traceback": [
      "\u001b[0;36m  File \u001b[0;32m\"<ipython-input-1-e4e1a0cc39e6>\"\u001b[0;36m, line \u001b[0;32m3\u001b[0m\n\u001b[0;31m    from ../mtspywrapper import pyMedium, pyParallelRaySensor, pySolarEmitter\u001b[0m\n\u001b[0m           ^\u001b[0m\n\u001b[0;31mSyntaxError\u001b[0m\u001b[0;31m:\u001b[0m invalid syntax\n"
     ]
    }
   ],
   "source": [
    "\" Load imports requiered for this notebook \"\n",
    "\n",
    "from /home/idocz/repo/mitsuba/mtspywrapper import pyMedium, pyParallelRaySensor, pySolarEmitter\n",
    "\n",
    "# Mitsuba imports\n",
    "from mitsuba.core import *\n",
    "from mitsuba.render import Scene, RenderQueue, RenderJob\n",
    "from mitsuba.core import PluginManager, Vector, Point, Transform, Spectrum\n",
    "\n",
    "# Other imports \n",
    "import numpy as np\n",
    "import matplotlib.pyplot as plt\n",
    "import os, sys\n",
    "from tqdm import tqdm\n",
    "import multiprocessing\n",
    "\n",
    "scheduler = Scheduler.getInstance()\n",
    "pmgr = PluginManager.getInstance()  \n",
    "\n",
    "ncores = multiprocessing.cpu_count()\n",
    "\n",
    "# Start up the scheduling system with one worker per local core\n",
    "if not scheduler.isRunning():\n",
    "    for i in range(0, ncores): \n",
    "        scheduler.registerWorker(LocalWorker(i, 'wrk%i' % i))\n",
    "    scheduler.start()\n",
    "\n",
    "MTSPATH = next(path for path in sys.path if path.endswith('mitsuba'))\n",
    "BASEPATH = os.path.join(MTSPATH, 'notebooks')"
   ]
  },
  {
   "cell_type": "code",
   "execution_count": 6,
   "metadata": {
    "ExecuteTime": {
     "end_time": "2018-12-17T09:26:03.326662Z",
     "start_time": "2018-12-17T09:26:03.306589Z"
    },
    "code_folding": [
     0
    ],
    "collapsed": true,
    "hidden": true
   },
   "outputs": [],
   "source": [
    "def render_scene(scene, ncores=32):\n",
    "    \n",
    "    # Parallel rendering using the blocksize parameter for speed\n",
    "    queue = RenderQueue()\n",
    "    size = scene.getSensor().getFilm().getSize()\n",
    "    blocksize = max(np.divide(max(size.x, size.y), ncores), 1)\n",
    "    scene.setBlockSize(blocksize) \n",
    "    bitmap = Bitmap(Bitmap.ELuminance, Bitmap.EFloat32, size)\n",
    "    job = RenderJob('myRenderJob', scene, queue)\n",
    "    job.start()\n",
    "    queue.waitLeft(0)\n",
    "    \n",
    "    # Develop the camera's film \n",
    "    scene.getFilm().develop(Point2i(0, 0), size, Point2i(0, 0), bitmap)\n",
    "    radiance = np.array(bitmap.buffer()) \n",
    "    return radiance"
   ]
  },
  {
   "cell_type": "code",
   "execution_count": 7,
   "metadata": {
    "ExecuteTime": {
     "end_time": "2018-12-17T09:26:04.498808Z",
     "start_time": "2018-12-17T09:26:04.488587Z"
    },
    "hidden": true
   },
   "outputs": [],
   "source": [
    "\"\"\"\n",
    "Define the extinction field (\\beta) in [km^-1]\n",
    "\"\"\" \n",
    "tau = np.hstack((np.full(16, 2.00), np.full(16, 18.00)))\n",
    "bounding_box = [0, 0, 0, 0.5, 0.5, 0.25]   # [xmin, ymin, zmin, xmax, ymax, zmax] in km units\n",
    "geometrical_thickness = bounding_box[5] - bounding_box[2]\n",
    "beta = tau/geometrical_thickness"
   ]
  },
  {
   "cell_type": "code",
   "execution_count": 8,
   "metadata": {
    "ExecuteTime": {
     "end_time": "2018-12-17T09:26:06.277951Z",
     "start_time": "2018-12-17T09:26:06.265308Z"
    },
    "collapsed": true,
    "hidden": true
   },
   "outputs": [],
   "source": [
    "\"\"\"\n",
    "Define a pyMedium object with beta, bounding_box, boundary conditions, \n",
    "phase function and single scattering albedo\n",
    "\"\"\" \n",
    "medium = pyMedium()\n",
    "medium.set_density(beta, bounding_box)\n",
    "medium.set_boundary(x='periodic', y='periodic')\n",
    "medium.set_hg_phase(g=0.85)\n",
    "medium.set_single_scattering_albedo(1.0)"
   ]
  },
  {
   "cell_type": "code",
   "execution_count": 9,
   "metadata": {
    "ExecuteTime": {
     "end_time": "2018-12-17T09:26:07.519525Z",
     "start_time": "2018-12-17T09:26:07.513481Z"
    },
    "collapsed": true,
    "hidden": true
   },
   "outputs": [],
   "source": [
    "\"\"\"\n",
    "Define a pySolarEmitter object with solar zenith and azimuth angles [degrees]\n",
    "\"\"\" \n",
    "solar_emitter = pySolarEmitter(zenith=0.0, azimuth=0.0)"
   ]
  },
  {
   "cell_type": "code",
   "execution_count": 10,
   "metadata": {
    "ExecuteTime": {
     "end_time": "2018-12-17T09:26:08.584831Z",
     "start_time": "2018-12-17T09:26:08.576810Z"
    },
    "collapsed": true,
    "hidden": true
   },
   "outputs": [],
   "source": [
    "\"\"\"\n",
    "Define a pyParallelRaySensor object for the medium using the view zenith and azimuth angles [degrees] and num_samples\n",
    "This sensor measures exisiting radiance from the top of the domain in a specific direction. \n",
    "It's pixel resolution is defined by the medium resolution.\n",
    "\"\"\" \n",
    "sensor = pyParallelRaySensor(medium)\n",
    "sensor.set_world_transform(view_zenith=0.0, view_azimuth=0.0)\n",
    "sensor.set_sampler(num_samples=2**10)"
   ]
  },
  {
   "cell_type": "code",
   "execution_count": 12,
   "metadata": {
    "ExecuteTime": {
     "end_time": "2018-12-17T09:26:23.221096Z",
     "start_time": "2018-12-17T09:26:23.200124Z"
    },
    "hidden": true
   },
   "outputs": [],
   "source": [
    "\"\"\"\n",
    "Define a mitsuba scene using all the python wrapper objects defined previously\n",
    "\"\"\" \n",
    "rr_depth = 300     # Russian Roulette depth\n",
    "\n",
    "scene = Scene()\n",
    "# Set the integrator\n",
    "scene.addChild(pmgr.create({\n",
    "    'type' : 'volpath_simple',\n",
    "    'rrDepth' : rr_depth\n",
    "}))\n",
    "# Add the sensor \n",
    "scene.addChild(sensor.get_mitsuba_sensor())\n",
    "# Add heterogeneous medium\n",
    "scene.addChild(medium.get_mitsuba_medium())\n",
    "# Create medium bounding box\n",
    "scene.addChild(medium.get_mitsuba_bounding_box())\n",
    "# Add Emitter\n",
    "scene.addChild(solar_emitter.get_mitsuba_emitter())\n",
    "scene.configure()"
   ]
  },
  {
   "cell_type": "code",
   "execution_count": 14,
   "metadata": {
    "ExecuteTime": {
     "end_time": "2018-12-17T09:27:48.945360Z",
     "start_time": "2018-12-17T09:27:48.757730Z"
    },
    "hidden": true
   },
   "outputs": [
    {
     "name": "stdout",
     "output_type": "stream",
     "text": [
      "rendering...\n",
      "Finished rendering!\n"
     ]
    }
   ],
   "source": [
    "print('rendering...')\n",
    "radiance = render_scene(scene, ncores=ncores)\n",
    "print('Finished rendering!')"
   ]
  },
  {
   "cell_type": "code",
   "execution_count": 15,
   "metadata": {
    "ExecuteTime": {
     "end_time": "2018-12-17T09:28:24.842281Z",
     "start_time": "2018-12-17T09:28:24.323760Z"
    },
    "hidden": true
   },
   "outputs": [
    {
     "data": {
      "text/plain": [
       "[<matplotlib.lines.Line2D at 0x7fb6b00cb7d0>]"
      ]
     },
     "execution_count": 15,
     "metadata": {},
     "output_type": "execute_result"
    },
    {
     "data": {
      "image/png": "[encoded data removed]",
      "text/plain": [
       "<matplotlib.figure.Figure at 0x7fb6b3425750>"
      ]
     },
     "metadata": {},
     "output_type": "display_data"
    }
   ],
   "source": [
    "\"\"\"\n",
    "Plot the brf measurements graph\n",
    "\"\"\"\n",
    "brf = radiance * solar_emitter.brf_factor\n",
    "%matplotlib inline\n",
    "plt.plot(brf.T)"
   ]
  }
 ],
 "metadata": {
  "kernelspec": {
   "display_name": "Python 3",
   "language": "python",
   "name": "python3"
  },
  "language_info": {
   "codemirror_mode": {
    "name": "ipython",
    "version": 3
   },
   "file_extension": ".py",
   "mimetype": "text/x-python",
   "name": "python",
   "nbconvert_exporter": "python",
   "pygments_lexer": "ipython3",
   "version": "3.7.0"
  },
  "varInspector": {
   "cols": {
    "lenName": 16,
    "lenType": 16,
    "lenVar": 40
   },
   "kernels_config": {
    "python": {
     "delete_cmd_postfix": "",
     "delete_cmd_prefix": "del ",
     "library": "var_list.py",
     "varRefreshCmd": "print(var_dic_list())"
    },
    "r": {
     "delete_cmd_postfix": ") ",
     "delete_cmd_prefix": "rm(",
     "library": "var_list.r",
     "varRefreshCmd": "cat(var_dic_list()) "
    }
   },
   "types_to_exclude": [
    "module",
    "function",
    "builtin_function_or_method",
    "instance",
    "_Feature"
   ],
   "window_display": false
  }
 },
 "nbformat": 4,
 "nbformat_minor": 1
}
